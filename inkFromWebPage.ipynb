{
 "cells": [
  {
   "cell_type": "code",
   "execution_count": 9,
   "metadata": {},
   "outputs": [],
   "source": [
    "from bs4 import BeautifulSoup\n",
    "# import urllib3\n",
    "import urllib.request\n",
    "import re"
   ]
  },
  {
   "cell_type": "code",
   "execution_count": 37,
   "metadata": {},
   "outputs": [
    {
     "name": "stdout",
     "output_type": "stream",
     "text": [
      "https://patentimages.storage.googleapis.com/35/2e/4b/92f58d1fdd6dd4/US9015209.pdf\n",
      "Completed\n",
      "yes--- https://patentimages.storage.googleapis.com/35/2e/4b/92f58d1fdd6dd4/US9015209.pdf\n",
      "http://patft.uspto.gov/netacgi/nph-Parser?Sect1=PTO1&Sect2=HITOFF&p=1&u=/netahtml/PTO/srchnum.html&r=1&f=G&l=50&d=PALL&s1=9015209.PN.\n",
      "https://assignment.uspto.gov/patent/index.html#/patent/search/resultFilter?searchInput=9015209\n",
      "http://worldwide.espacenet.com/publicationDetails/biblio?CC=US&NR=9015209B2&KC=B2&FT=D\n",
      "http://globaldossier.uspto.gov/#/result/patent/US/9015209/1\n",
      "https://patents.stackexchange.com/questions/tagged/US9015209\n",
      "http://scholar.google.com/scholar?q=\"Android+Data+Caching\"\n",
      "http://scholar.google.com/scholar?q=\"Cisco+MDS+9000+Series+Caching+Services+Module+with+IBM+TotalStorage%28TM%29+SAN+Volume+Controller+Storage+Software+for+Cisco+MDS+9000\"\n",
      "http://scholar.google.com/scholar?q=\"Cisco+MDS+9000+Series+Caching+Services+Module+with+IBM+TotalStorage%E2%84%A2+SAN+Volume+Controller+Storage+Software+for+Cisco+MDS+9000\"\n",
      "http://scholar.google.com/scholar?q=\"Persistant+Caching\"\n",
      "http://scholar.google.com/scholar?q=\"Persistant+Caching\"\n",
      "http://scholar.google.com/scholar?q=\"Automated+Storage+Reclamation+Using+Temporal+Importance+Annotations\"\n",
      "http://scholar.google.com/scholar?q=\"Architectures+and+Optimization+Methods+of+Flash+Memory+Based+Storage+Systems\"\n",
      "http://scholar.google.com/scholar?q=\"Position%3A+Short+Object+Lifetimes+Require+a+Delete-Optimized+Storage+System\"\n",
      "http://scholar.google.com/scholar?q=\"Web+Prefetching+in+a+Mobile+Environment\"\n",
      "http://scholar.google.com/scholar?q=\"Addressing+Mobile+HCI+Needs+Through+Agents\"\n",
      "http://scholar.google.com/scholar?q=\"Caching+of+Interactive+Branching+Video+in+MPEG-4-Thesis+for+the+Candidatus+Scientiarum+Degree\"\n",
      "http://scholar.google.com/scholar?q=\"Caching+of+Interactive+Branching+Video+in+MPEG-4%E2%80%94Thesis+for+the+Candidatus+Scientiarum+Degree\"\n",
      "http://scholar.google.com/scholar?q=\"Chung-Kwei%3A+A+Pattern-Discovery-Based+System+for+the+Automatic+Identification+of+Unsolicited+E-Mail+Messages+%28SPAM%29\"\n",
      "http://scholar.google.com/scholar?q=\"System+and+Method+for+Managing+Discardable+Objects\"\n",
      "http://scholar.google.com/scholar?q=\"System+and+Method+for+Managing+Discardable+Objects\"\n",
      "http://scholar.google.com/scholar?q=\"Smart+Caching\"\n",
      "http://scholar.google.com/scholar?q=\"Cost-Based+Replacement+Policy+for+Multimedia+Proxy+Across+Wireless+Internet\"\n",
      "http://scholar.google.com/scholar?q=\"A+Generalized+Target-Driven+Cache+Replacement+Policy+for+Mobile+Environments\"\n"
     ]
    }
   ],
   "source": [
    "\n",
    "\n",
    "# urllib3.request.\n",
    "\n",
    "# html_page = urllib.request.urlopen(\"http://www.python.org\")\n",
    "html_page = urllib.request.urlopen(\"https://patents.google.com/patent/US9015209B2/en\")\n",
    "# print(html_page)\n",
    "\n",
    "soup = BeautifulSoup(html_page)\n",
    "for link in soup.findAll('a', attrs={'href': re.compile(\"^http\")}):\n",
    "    lnk = link.get('href')\n",
    "    print(lnk)\n",
    "    if (lnk.split(\".\")[-1])==\"pdf\":\n",
    "        download_file(lnk)\n",
    "        print(\"yes---\",lnk)"
   ]
  },
  {
   "cell_type": "code",
   "execution_count": 36,
   "metadata": {},
   "outputs": [],
   "source": [
    "\n",
    "def download_file(download_url):\n",
    "    response = urllib.request.urlopen(download_url)\n",
    "    fileName = download_url.split(\"/\")[-1]\n",
    "    file = open(fileName, 'wb')\n",
    "    file.write(response.read())\n",
    "    file.close()\n",
    "    print(\"Completed\")"
   ]
  },
  {
   "cell_type": "code",
   "execution_count": null,
   "metadata": {},
   "outputs": [],
   "source": []
  }
 ],
 "metadata": {
  "kernelspec": {
   "display_name": "Python 3",
   "language": "python",
   "name": "python3"
  },
  "language_info": {
   "codemirror_mode": {
    "name": "ipython",
    "version": 3
   },
   "file_extension": ".py",
   "mimetype": "text/x-python",
   "name": "python",
   "nbconvert_exporter": "python",
   "pygments_lexer": "ipython3",
   "version": "3.7.0"
  }
 },
 "nbformat": 4,
 "nbformat_minor": 4
}
