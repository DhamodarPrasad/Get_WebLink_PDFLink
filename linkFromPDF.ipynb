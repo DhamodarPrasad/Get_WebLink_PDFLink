{
 "cells": [
  {
   "cell_type": "code",
   "execution_count": 3,
   "metadata": {},
   "outputs": [],
   "source": [
    "import PyPDF2 as pyPdf"
   ]
  },
  {
   "cell_type": "code",
   "execution_count": 16,
   "metadata": {},
   "outputs": [
    {
     "name": "stdout",
     "output_type": "stream",
     "text": [
      "{'/Type': '/Page', '/MediaBox': [0, 0, 612, 792], '/Rotate': 0, '/Parent': IndirectObject(3, 0), '/Resources': {'/ProcSet': ['/PDF', '/Text'], '/ExtGState': IndirectObject(41, 0), '/Font': IndirectObject(42, 0)}, '/Annots': [IndirectObject(13, 0), IndirectObject(14, 0), IndirectObject(15, 0), IndirectObject(16, 0), IndirectObject(17, 0), IndirectObject(18, 0), IndirectObject(19, 0), IndirectObject(20, 0), IndirectObject(21, 0), IndirectObject(22, 0), IndirectObject(23, 0), IndirectObject(24, 0), IndirectObject(25, 0), IndirectObject(26, 0)], '/Contents': IndirectObject(30, 0)}\n",
      "====== {'/Type': '/Page', '/MediaBox': [0, 0, 612, 792], '/Rotate': 0, '/Parent': IndirectObject(3, 0), '/Resources': {'/ProcSet': ['/PDF', '/Text'], '/ExtGState': IndirectObject(41, 0), '/Font': IndirectObject(42, 0)}, '/Annots': [IndirectObject(13, 0), IndirectObject(14, 0), IndirectObject(15, 0), IndirectObject(16, 0), IndirectObject(17, 0), IndirectObject(18, 0), IndirectObject(19, 0), IndirectObject(20, 0), IndirectObject(21, 0), IndirectObject(22, 0), IndirectObject(23, 0), IndirectObject(24, 0), IndirectObject(25, 0), IndirectObject(26, 0)], '/Contents': IndirectObject(30, 0)}\n",
      "--- [IndirectObject(13, 0), IndirectObject(14, 0), IndirectObject(15, 0), IndirectObject(16, 0), IndirectObject(17, 0), IndirectObject(18, 0), IndirectObject(19, 0), IndirectObject(20, 0), IndirectObject(21, 0), IndirectObject(22, 0), IndirectObject(23, 0), IndirectObject(24, 0), IndirectObject(25, 0), IndirectObject(26, 0)]\n",
      "http://www.pdf995.com\n",
      "http://www.pdf995.com\n",
      "http://www.pdf995.com\n",
      "http://www.pdf995.com\n",
      "http://www.pdf995.com\n",
      "http://www.pdf995.com\n",
      "http://www.pdf995.com\n",
      "http://www.pdf995.com\n",
      "http://www.pdf995.com\n",
      "http://www.signature995.com\n",
      "http://www.signature995.com\n",
      "http://www.pdf995.com\n",
      "http://www.pdfedit995.com\n",
      "http://www.pdfedit995.com\n",
      "====== {'/Type': '/Page', '/MediaBox': [0, 0, 612, 792], '/Rotate': 0, '/Parent': IndirectObject(3, 0), '/Resources': {'/ProcSet': ['/PDF', '/ImageC', '/Text'], '/ExtGState': IndirectObject(57, 0), '/Font': IndirectObject(58, 0)}, '/Annots': [IndirectObject(43, 0)], '/Contents': IndirectObject(47, 0)}\n",
      "--- [IndirectObject(43, 0)]\n",
      "http://www.wired.com/\n",
      "====== {'/Type': '/Page', '/MediaBox': [0, 0, 612, 792], '/Rotate': 0, '/Parent': IndirectObject(3, 0), '/Resources': {'/ProcSet': ['/PDF', '/ImageC', '/Text'], '/ExtGState': IndirectObject(68, 0), '/Font': IndirectObject(69, 0)}, '/Contents': IndirectObject(62, 0)}\n"
     ]
    },
    {
     "ename": "KeyError",
     "evalue": "'/Annots'",
     "output_type": "error",
     "traceback": [
      "\u001b[1;31m---------------------------------------------------------------------------\u001b[0m",
      "\u001b[1;31mKeyError\u001b[0m                                  Traceback (most recent call last)",
      "\u001b[1;32m<ipython-input-16-750639e1ce4b>\u001b[0m in \u001b[0;36m<module>\u001b[1;34m\u001b[0m\n\u001b[0;32m     14\u001b[0m     \u001b[0mprint\u001b[0m\u001b[1;33m(\u001b[0m\u001b[1;34m\"======\"\u001b[0m\u001b[1;33m,\u001b[0m\u001b[0mpageObject\u001b[0m\u001b[1;33m)\u001b[0m\u001b[1;33m\u001b[0m\u001b[0m\n\u001b[0;32m     15\u001b[0m \u001b[1;31m#     print(pageObject.get(key))\u001b[0m\u001b[1;33m\u001b[0m\u001b[1;33m\u001b[0m\u001b[0m\n\u001b[1;32m---> 16\u001b[1;33m     \u001b[0mprint\u001b[0m\u001b[1;33m(\u001b[0m\u001b[1;34m\"---\"\u001b[0m\u001b[1;33m,\u001b[0m\u001b[0mpageObject\u001b[0m\u001b[1;33m[\u001b[0m\u001b[0mkey\u001b[0m\u001b[1;33m]\u001b[0m\u001b[1;33m)\u001b[0m\u001b[1;33m\u001b[0m\u001b[0m\n\u001b[0m\u001b[0;32m     17\u001b[0m     \u001b[1;32mif\u001b[0m \u001b[0mpageObject\u001b[0m\u001b[1;33m[\u001b[0m\u001b[0mkey\u001b[0m\u001b[1;33m]\u001b[0m\u001b[1;33m:\u001b[0m\u001b[1;33m\u001b[0m\u001b[0m\n\u001b[0;32m     18\u001b[0m         \u001b[0mann\u001b[0m \u001b[1;33m=\u001b[0m \u001b[0mpageObject\u001b[0m\u001b[1;33m[\u001b[0m\u001b[0mkey\u001b[0m\u001b[1;33m]\u001b[0m\u001b[1;33m\u001b[0m\u001b[0m\n",
      "\u001b[1;32mc:\\users\\dev\\anaconda3\\envs\\test\\lib\\site-packages\\PyPDF2\\generic.py\u001b[0m in \u001b[0;36m__getitem__\u001b[1;34m(self, key)\u001b[0m\n\u001b[0;32m    514\u001b[0m \u001b[1;33m\u001b[0m\u001b[0m\n\u001b[0;32m    515\u001b[0m     \u001b[1;32mdef\u001b[0m \u001b[0m__getitem__\u001b[0m\u001b[1;33m(\u001b[0m\u001b[0mself\u001b[0m\u001b[1;33m,\u001b[0m \u001b[0mkey\u001b[0m\u001b[1;33m)\u001b[0m\u001b[1;33m:\u001b[0m\u001b[1;33m\u001b[0m\u001b[0m\n\u001b[1;32m--> 516\u001b[1;33m         \u001b[1;32mreturn\u001b[0m \u001b[0mdict\u001b[0m\u001b[1;33m.\u001b[0m\u001b[0m__getitem__\u001b[0m\u001b[1;33m(\u001b[0m\u001b[0mself\u001b[0m\u001b[1;33m,\u001b[0m \u001b[0mkey\u001b[0m\u001b[1;33m)\u001b[0m\u001b[1;33m.\u001b[0m\u001b[0mgetObject\u001b[0m\u001b[1;33m(\u001b[0m\u001b[1;33m)\u001b[0m\u001b[1;33m\u001b[0m\u001b[0m\n\u001b[0m\u001b[0;32m    517\u001b[0m \u001b[1;33m\u001b[0m\u001b[0m\n\u001b[0;32m    518\u001b[0m     \u001b[1;31m##\u001b[0m\u001b[1;33m\u001b[0m\u001b[1;33m\u001b[0m\u001b[0m\n",
      "\u001b[1;31mKeyError\u001b[0m: '/Annots'"
     ]
    }
   ],
   "source": [
    "PDFFile = open(r\"E:\\myWork\\Swork\\pdfdoc.pdf\",'rb')\n",
    "\n",
    "PDF = pyPdf.PdfFileReader(PDFFile)\n",
    "pages = PDF.getNumPages()\n",
    "key = '/Annots'\n",
    "uri = '/URI'\n",
    "ank = '/A'\n",
    "\n",
    "print(PDF.getPage(0))\n",
    "for page in range(pages):\n",
    "    \n",
    "    pageSliced = PDF.getPage(page)\n",
    "    pageObject = pageSliced.getObject()\n",
    "    print(\"======\",pageObject)\n",
    "#     print(pageObject.get(key))\n",
    "    print(\"---\",pageObject[key])\n",
    "    if pageObject[key]:\n",
    "        ann = pageObject[key]\n",
    "        for a in ann:\n",
    "            u = a.getObject()\n",
    "#             if u[ank].has_key(uri):\n",
    "            print( u[ank][uri])"
   ]
  },
  {
   "cell_type": "code",
   "execution_count": 8,
   "metadata": {},
   "outputs": [
    {
     "ename": "TypeError",
     "evalue": "'IndirectObject' object is not subscriptable",
     "output_type": "error",
     "traceback": [
      "\u001b[1;31m---------------------------------------------------------------------------\u001b[0m",
      "\u001b[1;31mTypeError\u001b[0m                                 Traceback (most recent call last)",
      "\u001b[1;32m<ipython-input-8-0f173d903eb8>\u001b[0m in \u001b[0;36m<module>\u001b[1;34m\u001b[0m\n\u001b[0;32m      9\u001b[0m         \u001b[1;32mfor\u001b[0m \u001b[0mitem\u001b[0m \u001b[1;32min\u001b[0m \u001b[1;33m(\u001b[0m\u001b[0mpdfPage\u001b[0m\u001b[1;33m[\u001b[0m\u001b[1;34m'/Annots'\u001b[0m\u001b[1;33m]\u001b[0m\u001b[1;33m)\u001b[0m\u001b[1;33m:\u001b[0m\u001b[1;33m\u001b[0m\u001b[0m\n\u001b[0;32m     10\u001b[0m \u001b[1;31m#             item.getObject['/A']\u001b[0m\u001b[1;33m\u001b[0m\u001b[1;33m\u001b[0m\u001b[0m\n\u001b[1;32m---> 11\u001b[1;33m             \u001b[0murls\u001b[0m\u001b[1;33m.\u001b[0m\u001b[0mappend\u001b[0m\u001b[1;33m(\u001b[0m\u001b[0mitem\u001b[0m\u001b[1;33m[\u001b[0m\u001b[1;34m'/A'\u001b[0m\u001b[1;33m]\u001b[0m\u001b[1;33m[\u001b[0m\u001b[1;34m'/URI'\u001b[0m\u001b[1;33m]\u001b[0m\u001b[1;33m)\u001b[0m\u001b[1;33m\u001b[0m\u001b[0m\n\u001b[0m\u001b[0;32m     12\u001b[0m     \u001b[1;32mexcept\u001b[0m \u001b[0mKeyError\u001b[0m\u001b[1;33m:\u001b[0m\u001b[1;33m\u001b[0m\u001b[0m\n\u001b[0;32m     13\u001b[0m         \u001b[1;32mpass\u001b[0m\u001b[1;33m\u001b[0m\u001b[0m\n",
      "\u001b[1;31mTypeError\u001b[0m: 'IndirectObject' object is not subscriptable"
     ]
    }
   ],
   "source": [
    "import PyPDF2\n",
    "\n",
    "pdf = PyPDF2.PdfFileReader(r\"E:\\myWork\\Swork\\pdfdoc.pdf\")\n",
    "\n",
    "urls = []\n",
    "for page in range(pdf.numPages):\n",
    "    pdfPage = pdf.getPage(page)\n",
    "    try:\n",
    "        for item in (pdfPage['/Annots']):\n",
    "#             item.getObject['/A']\n",
    "            urls.append(item['/A']['/URI'])\n",
    "    except KeyError:\n",
    "        pass"
   ]
  },
  {
   "cell_type": "code",
   "execution_count": null,
   "metadata": {},
   "outputs": [],
   "source": []
  }
 ],
 "metadata": {
  "kernelspec": {
   "display_name": "Python 3",
   "language": "python",
   "name": "python3"
  },
  "language_info": {
   "codemirror_mode": {
    "name": "ipython",
    "version": 3
   },
   "file_extension": ".py",
   "mimetype": "text/x-python",
   "name": "python",
   "nbconvert_exporter": "python",
   "pygments_lexer": "ipython3",
   "version": "3.7.0"
  }
 },
 "nbformat": 4,
 "nbformat_minor": 4
}
