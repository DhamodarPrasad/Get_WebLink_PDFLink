{
 "cells": [
  {
   "cell_type": "code",
   "execution_count": 1,
   "metadata": {},
   "outputs": [],
   "source": [
    "from bs4 import BeautifulSoup\n",
    "# import urllib3\n",
    "import urllib.request\n",
    "import re\n",
    "import PyPDF2 as pyPdf"
   ]
  },
  {
   "cell_type": "code",
   "execution_count": 13,
   "metadata": {},
   "outputs": [
    {
     "name": "stdout",
     "output_type": "stream",
     "text": [
      "yes--- https://patentimages.storage.googleapis.com/35/2e/4b/92f58d1fdd6dd4/US9015209.pdf\n",
      "Completed\n",
      "downloaded-------------------------\n",
      "****** US9015209.pdf\n",
      "--- US9015209.pdf\n",
      "{'/Type': '/Page', '/Parent': IndirectObject(2, 0), '/Resources': {'/XObject': {'/Im0': IndirectObject(8, 0)}, '/ProcSet': IndirectObject(6, 0), '/Font': {'/F1': {'/Type': '/Font', '/Subtype': '/Type1', '/BaseFont': '/Courier', '/Encoding': '/WinAnsiEncoding'}}}, '/MediaBox': [0, 0, 614.4, 792], '/CropBox': [0, 0, 614.4, 792], '/Thumb': IndirectObject(11, 0), '/Contents': [IndirectObject(606, 0), IndirectObject(4, 0), IndirectObject(607, 0)]}\n",
      "====== {'/Type': '/Page', '/Parent': IndirectObject(2, 0), '/Resources': {'/XObject': {'/Im0': IndirectObject(8, 0)}, '/ProcSet': IndirectObject(6, 0), '/Font': {'/F1': {'/Type': '/Font', '/Subtype': '/Type1', '/BaseFont': '/Courier', '/Encoding': '/WinAnsiEncoding'}}}, '/MediaBox': [0, 0, 614.4, 792], '/CropBox': [0, 0, 614.4, 792], '/Thumb': IndirectObject(11, 0), '/Contents': [IndirectObject(606, 0), IndirectObject(4, 0), IndirectObject(607, 0)]}\n"
     ]
    },
    {
     "name": "stderr",
     "output_type": "stream",
     "text": [
      "PdfReadWarning: Xref table not zero-indexed. ID numbers for objects will be corrected. [pdf.py:1736]\n"
     ]
    },
    {
     "ename": "KeyError",
     "evalue": "'/Annots'",
     "output_type": "error",
     "traceback": [
      "\u001b[1;31m---------------------------------------------------------------------------\u001b[0m",
      "\u001b[1;31mKeyError\u001b[0m                                  Traceback (most recent call last)",
      "\u001b[1;32m<ipython-input-13-c9196e0752e4>\u001b[0m in \u001b[0;36m<module>\u001b[1;34m\u001b[0m\n\u001b[0;32m     22\u001b[0m         \u001b[0mprint\u001b[0m\u001b[1;33m(\u001b[0m\u001b[1;34m\"******\"\u001b[0m\u001b[1;33m,\u001b[0m\u001b[0mlnk\u001b[0m\u001b[1;33m.\u001b[0m\u001b[0msplit\u001b[0m\u001b[1;33m(\u001b[0m\u001b[1;34m\"/\"\u001b[0m\u001b[1;33m)\u001b[0m\u001b[1;33m[\u001b[0m\u001b[1;33m-\u001b[0m\u001b[1;36m1\u001b[0m\u001b[1;33m]\u001b[0m\u001b[1;33m)\u001b[0m\u001b[1;33m\u001b[0m\u001b[0m\n\u001b[0;32m     23\u001b[0m         \u001b[0mPDFname\u001b[0m \u001b[1;33m=\u001b[0m \u001b[0mlnk\u001b[0m\u001b[1;33m.\u001b[0m\u001b[0msplit\u001b[0m\u001b[1;33m(\u001b[0m\u001b[1;34m\"/\"\u001b[0m\u001b[1;33m)\u001b[0m\u001b[1;33m[\u001b[0m\u001b[1;33m-\u001b[0m\u001b[1;36m1\u001b[0m\u001b[1;33m]\u001b[0m\u001b[1;33m\u001b[0m\u001b[0m\n\u001b[1;32m---> 24\u001b[1;33m         \u001b[0mPDGlink\u001b[0m\u001b[1;33m(\u001b[0m\u001b[0mPDFname\u001b[0m\u001b[1;33m)\u001b[0m\u001b[1;33m\u001b[0m\u001b[0m\n\u001b[0m",
      "\u001b[1;32m<ipython-input-12-2aefa18455d0>\u001b[0m in \u001b[0;36mPDGlink\u001b[1;34m(PDFname)\u001b[0m\n\u001b[0;32m     16\u001b[0m         \u001b[0mprint\u001b[0m\u001b[1;33m(\u001b[0m\u001b[1;34m\"======\"\u001b[0m\u001b[1;33m,\u001b[0m\u001b[0mpageObject\u001b[0m\u001b[1;33m)\u001b[0m\u001b[1;33m\u001b[0m\u001b[0m\n\u001b[0;32m     17\u001b[0m     \u001b[1;31m#     print(pageObject.get(key))\u001b[0m\u001b[1;33m\u001b[0m\u001b[1;33m\u001b[0m\u001b[0m\n\u001b[1;32m---> 18\u001b[1;33m         \u001b[0mprint\u001b[0m\u001b[1;33m(\u001b[0m\u001b[1;34m\"---\"\u001b[0m\u001b[1;33m,\u001b[0m\u001b[0mpageObject\u001b[0m\u001b[1;33m[\u001b[0m\u001b[0mkey\u001b[0m\u001b[1;33m]\u001b[0m\u001b[1;33m)\u001b[0m\u001b[1;33m\u001b[0m\u001b[0m\n\u001b[0m\u001b[0;32m     19\u001b[0m         \u001b[1;32mif\u001b[0m \u001b[0mpageObject\u001b[0m\u001b[1;33m[\u001b[0m\u001b[0mkey\u001b[0m\u001b[1;33m]\u001b[0m\u001b[1;33m:\u001b[0m\u001b[1;33m\u001b[0m\u001b[0m\n\u001b[0;32m     20\u001b[0m             \u001b[0mann\u001b[0m \u001b[1;33m=\u001b[0m \u001b[0mpageObject\u001b[0m\u001b[1;33m[\u001b[0m\u001b[0mkey\u001b[0m\u001b[1;33m]\u001b[0m\u001b[1;33m\u001b[0m\u001b[0m\n",
      "\u001b[1;32mc:\\users\\dev\\anaconda3\\envs\\test\\lib\\site-packages\\PyPDF2\\generic.py\u001b[0m in \u001b[0;36m__getitem__\u001b[1;34m(self, key)\u001b[0m\n\u001b[0;32m    514\u001b[0m \u001b[1;33m\u001b[0m\u001b[0m\n\u001b[0;32m    515\u001b[0m     \u001b[1;32mdef\u001b[0m \u001b[0m__getitem__\u001b[0m\u001b[1;33m(\u001b[0m\u001b[0mself\u001b[0m\u001b[1;33m,\u001b[0m \u001b[0mkey\u001b[0m\u001b[1;33m)\u001b[0m\u001b[1;33m:\u001b[0m\u001b[1;33m\u001b[0m\u001b[0m\n\u001b[1;32m--> 516\u001b[1;33m         \u001b[1;32mreturn\u001b[0m \u001b[0mdict\u001b[0m\u001b[1;33m.\u001b[0m\u001b[0m__getitem__\u001b[0m\u001b[1;33m(\u001b[0m\u001b[0mself\u001b[0m\u001b[1;33m,\u001b[0m \u001b[0mkey\u001b[0m\u001b[1;33m)\u001b[0m\u001b[1;33m.\u001b[0m\u001b[0mgetObject\u001b[0m\u001b[1;33m(\u001b[0m\u001b[1;33m)\u001b[0m\u001b[1;33m\u001b[0m\u001b[0m\n\u001b[0m\u001b[0;32m    517\u001b[0m \u001b[1;33m\u001b[0m\u001b[0m\n\u001b[0;32m    518\u001b[0m     \u001b[1;31m##\u001b[0m\u001b[1;33m\u001b[0m\u001b[1;33m\u001b[0m\u001b[0m\n",
      "\u001b[1;31mKeyError\u001b[0m: '/Annots'"
     ]
    }
   ],
   "source": [
    "fileName = \"\"\n",
    "def download_file(download_url):\n",
    "    response = urllib.request.urlopen(download_url)\n",
    "    fileName = download_url.split(\"/\")[-1]\n",
    "    file = open(fileName, 'wb')\n",
    "    file.write(response.read())\n",
    "    file.close()\n",
    "    print(\"Completed\")\n",
    "    \n",
    "    \n",
    "URLtobeProcess = \"https://patents.google.com/patent/US9015209B2/en\"\n",
    "html_page = urllib.request.urlopen(URLtobeProcess)\n",
    "soup = BeautifulSoup(html_page)\n",
    "\n",
    "for link in soup.findAll('a', attrs={'href': re.compile(\"^http\")}):\n",
    "    lnk = link.get('href')\n",
    "#     print(lnk)\n",
    "    if (lnk.split(\".\")[-1])==\"pdf\":\n",
    "        print(\"yes---\",lnk)        \n",
    "        download_file(lnk)\n",
    "        print(\"downloaded-------------------------\")\n",
    "        print(\"******\",lnk.split(\"/\")[-1])\n",
    "        PDFname = lnk.split(\"/\")[-1]\n",
    "        PDGlink(PDFname)\n"
   ]
  },
  {
   "cell_type": "code",
   "execution_count": 12,
   "metadata": {},
   "outputs": [],
   "source": [
    "def PDGlink(PDFname):\n",
    "    print(\"---\",PDFname)\n",
    "    PDFFile = open(PDFname,'rb')\n",
    "\n",
    "    PDF = pyPdf.PdfFileReader(PDFFile)\n",
    "    pages = PDF.getNumPages()\n",
    "    key = '/Annots'\n",
    "    uri = '/URI'\n",
    "    ank = '/A'\n",
    "\n",
    "    print(PDF.getPage(0))\n",
    "    for page in range(pages):\n",
    "\n",
    "        pageSliced = PDF.getPage(page)\n",
    "        pageObject = pageSliced.getObject()\n",
    "        print(\"======\",pageObject)\n",
    "    #     print(pageObject.get(key))\n",
    "        print(\"---\",pageObject[key])\n",
    "        if pageObject[key]:\n",
    "            ann = pageObject[key]\n",
    "            for a in ann:\n",
    "                u = a.getObject()\n",
    "    #             if u[ank].has_key(uri):\n",
    "                print( u[ank][uri])"
   ]
  },
  {
   "cell_type": "code",
   "execution_count": null,
   "metadata": {},
   "outputs": [],
   "source": []
  }
 ],
 "metadata": {
  "kernelspec": {
   "display_name": "Python 3",
   "language": "python",
   "name": "python3"
  },
  "language_info": {
   "codemirror_mode": {
    "name": "ipython",
    "version": 3
   },
   "file_extension": ".py",
   "mimetype": "text/x-python",
   "name": "python",
   "nbconvert_exporter": "python",
   "pygments_lexer": "ipython3",
   "version": "3.7.0"
  }
 },
 "nbformat": 4,
 "nbformat_minor": 4
}
